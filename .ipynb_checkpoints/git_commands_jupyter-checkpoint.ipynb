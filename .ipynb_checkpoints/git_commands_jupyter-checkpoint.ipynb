{
 "cells": [
  {
   "cell_type": "markdown",
   "id": "69695fc0",
   "metadata": {},
   "source": [
    "`git version`\n",
    "\n",
    "`git config --global user.name 'Pasha'`\n",
    "\n",
    "`git config --global user.email 'kormeg@yandex.ru'`\n",
    "\n",
    "`git config -l`\n",
    "\n",
    "в корневом каталоге юзера появляется файл .gitconfig с инфой (эта инфа в последствии отображается в отчете о коммите в строке author)\n",
    "\n",
    "1. `git init` инициализация репозитория в папке (.)\n",
    "создается скрытая папка .git со всякой шляпой\n",
    "можно создать файл .gitignore в этой же папке (этот файл указывает гиту, что из текущего и будущего содержимого папки игнорировать\n",
    "[про gitignore](https://support.rdb24.com/hc/ru/articles/115000463769-%D0%9F%D1%80%D0%B0%D0%B2%D0%B8%D0%BB%D0%B0-%D1%81%D0%B8%D0%BD%D1%82%D0%B0%D0%BA%D1%81%D0%B8%D1%81%D0%B0-%D1%84%D0%B0%D0%B9%D0%BB%D0%B0-gitignore)\n",
    "\n",
    "2. `git status` состояние папки на текущий момент (показаны несохраненные изменения если они есть. созданный или отредактированный - красный > add > зеленый > commit > исчезает)\n",
    "\n",
    "3. `git add file.py(txt,md,ipynb)` добавление нового файла к отслеживаемым или измененного файла уже присутствующего в репозитории\n",
    "git rm --cached file.txt возврат из зеленого в красное состояние.\n",
    "git restore file.txt если хочешь отменить изменения в файле и вернуть к состоянию последнего коммита (из красного в исходное до редактирования)\n",
    "git checkout -- file.txt - то же самое в bash работает точно\n",
    "git diff --staged - отображает результат, который будет, если сейчас сделать коммит. (на зеленой стадии, после add)\n",
    "4. `git commit -m 'comment'` фиксация измененений в файле локально\n",
    "git reset --hard HEAD~3 - возвращение к предыдущей версии с уничтожением всего, что было после(локально тоже) (цифра в конце - кол-во уничтожаемых коммитов)\n",
    "5. `git branch ***-M*** main(master - стоит по умолчанию)` выбор ветки необязательное действие\n",
    "6. `git remote add ***origin*** `https://github.com/blabla_everything_from_address_bar.git создание ссылки на репозиторий\n",
    "7. `git remote` отображает ссылку origin, когда она уже существует\n",
    "переход в удаленку\n",
    "8. `git push ***-u*** origin main(master)` отправка файла на удаленный репозиторий\n",
    "9. `git clone https://blabla_everything_from_address_bar` создание клона репозитория на другом компухтере\n",
    "10. `git log` просмотр истории изменений\n",
    "git log -1 -p\n",
    "11. `git commit --amend` (esc :w q- сохранение и выход из редактора) изменяет коммент последнего коммита (этого делать не стоит в совместных проектах)\n",
    "12. `git pull origin master` при конфликтах изменений с разных компов заливает проект с изменениями того, кто был первым второму \n",
    "13. `git add` . добавить всё\n",
    "14. `git branch` отображает название ветки, в которой находишься\n",
    "15. `git branch name` создание новой ветки это под вопросом\n",
    "16. `git checkout -b new_branch_name` переход на отдельную ветку(вместе с созданием ее)\n",
    "\n",
    "-M - главная ветка\n",
    "origin - общепринятое название ссылки на удаленный репозииторий (название может быть любым)\n",
    "-u  (set upstream) -  при следующих вызовах git push не нужно указывать репозиторий достаточно git push\n",
    "\n",
    "___\n",
    "\n",
    "1. `mkdir name ('two words') or path `\n",
    "2. `cd path or name ('two words')`\n",
    "3. `new-item name.py(txt, md, ipynb)`\n",
    "4. `ls == (get_childitem) (ls -h)hidden для powershell / ls` - в строку, ll - списком (l -list), ll -a - co скрытыми. (a - all) для bash\n",
    "5. `pwd`\n",
    "6. `cd .. (cd ..\\..\\..)`\n",
    "7. `del (powershell)`\n",
    "8. `notepad.exe name.py ctrl+s, ctrl+w`\n",
    "9. `python.exe name.py ::`\n",
    "10. `man` (man mkdir or another command) мануал полный или по определенной команде ctrl+c f (powershell)\n",
    "11. `echo 'something'` >> file.txt добавление строки в файл (>) переписывает файл так же можно создать новый файл\n",
    "\n",
    "12. `cat file.txt` просмотр содержимого файла в консоли \n",
    "nano file.txt (bash)\n",
    "vim file.txt  - редактор (выход из редактора c coхранением :wq) (вим на винду устанавливается отдельно)\n",
    "cp file.txt folder_name/ - копирование файла в папку\n"
   ]
  },
  {
   "cell_type": "code",
   "execution_count": null,
   "id": "7deb0c74",
   "metadata": {},
   "outputs": [],
   "source": []
  },
  {
   "cell_type": "code",
   "execution_count": null,
   "id": "db60819d",
   "metadata": {},
   "outputs": [],
   "source": []
  },
  {
   "cell_type": "code",
   "execution_count": null,
   "id": "ae7fb537",
   "metadata": {},
   "outputs": [],
   "source": []
  },
  {
   "cell_type": "code",
   "execution_count": null,
   "id": "d30577af",
   "metadata": {},
   "outputs": [],
   "source": []
  },
  {
   "cell_type": "markdown",
   "id": "6484fa37",
   "metadata": {},
   "source": []
  }
 ],
 "metadata": {
  "kernelspec": {
   "display_name": "Python 3 (ipykernel)",
   "language": "python",
   "name": "python3"
  },
  "language_info": {
   "codemirror_mode": {
    "name": "ipython",
    "version": 3
   },
   "file_extension": ".py",
   "mimetype": "text/x-python",
   "name": "python",
   "nbconvert_exporter": "python",
   "pygments_lexer": "ipython3",
   "version": "3.9.12"
  }
 },
 "nbformat": 4,
 "nbformat_minor": 5
}
